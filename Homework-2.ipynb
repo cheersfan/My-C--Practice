{
 "cells": [
  {
   "cell_type": "markdown",
   "metadata": {},
   "source": [
    "## 2.3 复合类型  \n",
    "复合类型有：\n",
    "> 结构体、共用体、引用、指针等  \n",
    "\n",
    "---  \n",
    "\n",
    "**空指针**  \n",
    "```C++\n",
    "\n",
    "//声明空指针三种方法\n",
    "int *p1 = nullptr; //C++11新增加，推荐使用\n",
    "int *p2 = 0;\n",
    "int *p3 = NULL;   //旧版本C++使用，现在应避免使用\n",
    "\n",
    "```"
   ]
  },
  {
   "cell_type": "code",
   "execution_count": null,
   "metadata": {},
   "outputs": [],
   "source": []
  }
 ],
 "metadata": {
  "kernelspec": {
   "display_name": "Python 3",
   "language": "python",
   "name": "python3"
  },
  "language_info": {
   "codemirror_mode": {
    "name": "ipython",
    "version": 3
   },
   "file_extension": ".py",
   "mimetype": "text/x-python",
   "name": "python",
   "nbconvert_exporter": "python",
   "pygments_lexer": "ipython3",
   "version": "3.7.0"
  }
 },
 "nbformat": 4,
 "nbformat_minor": 2
}
