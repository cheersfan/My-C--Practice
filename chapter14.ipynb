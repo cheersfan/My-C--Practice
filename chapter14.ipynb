{
 "cells": [
  {
   "cell_type": "markdown",
   "metadata": {},
   "source": [
    "# 14章 C++中代码的重用  \n",
    "\n",
    "is-a实现的方式：\n",
    "* 公有继承  \n",
    "\n",
    "has-a实现的方式：\n",
    "* 包含其他类对象为类成员\n",
    "* 私有继承  \n",
    "\n",
    "**包含其它类的对象作为类成员** ：将一个命名的其它类的对象加入到当前类中，作为一个成员变量。\n",
    "**私有继承**：可以理解为，将一个未命名的父类的对象加入到当前类中，作为一个成员变量。\n",
    "这样的理解，对于私有继承来说会出现如下几个问题：\n",
    "1. 如何初始化基类组件：使用成员初始化列表+类名。\n",
    "2. 如何访问基类方法：使用基类的类名+\\`::\\`+基类方法名。\n",
    "3. 如何访问基类对象：强制类型转换，返回一个子类的对象向上转换成基类对象。\n",
    "4. 访问基类的友元函数：将子类显式地转换为基类。\n",
    "\n",
    "\n"
   ]
  },
  {
   "cell_type": "code",
   "execution_count": null,
   "metadata": {},
   "outputs": [],
   "source": []
  }
 ],
 "metadata": {
  "kernelspec": {
   "display_name": "Python 2",
   "language": "python",
   "name": "python2"
  },
  "language_info": {
   "codemirror_mode": {
    "name": "ipython",
    "version": 2
   },
   "file_extension": ".py",
   "mimetype": "text/x-python",
   "name": "python",
   "nbconvert_exporter": "python",
   "pygments_lexer": "ipython2",
   "version": "2.7.5"
  }
 },
 "nbformat": 4,
 "nbformat_minor": 2
}
