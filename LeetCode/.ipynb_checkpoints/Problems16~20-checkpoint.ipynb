{
 "cells": [
  {
   "cell_type": "markdown",
   "metadata": {},
   "source": [
    "## 18.FourSum  \n",
    "FourSum和ThreeSum两道题的思路很像。主要运用`双指针`的方法，循环遍历，是否存在规定的四个或者三个数值之和与`target`值相同。  \n",
    "**难点**  \n",
    "去除重复！  \n",
    "1.最粗暴的方法，将得出的结果全部用`set`集合存储，之后再转成输出所需要的`vector`。  \n",
    "2.`++`法，当++后指针指向的当前的数值与指向的之前的数值相同，则继续++。一定要把握好++的时机。  \n"
   ]
  },
  {
   "cell_type": "code",
   "execution_count": null,
   "metadata": {},
   "outputs": [],
   "source": []
  }
 ],
 "metadata": {
  "kernelspec": {
   "display_name": "Python 3",
   "language": "python",
   "name": "python3"
  },
  "language_info": {
   "codemirror_mode": {
    "name": "ipython",
    "version": 3
   },
   "file_extension": ".py",
   "mimetype": "text/x-python",
   "name": "python",
   "nbconvert_exporter": "python",
   "pygments_lexer": "ipython3",
   "version": "3.7.1"
  }
 },
 "nbformat": 4,
 "nbformat_minor": 2
}
