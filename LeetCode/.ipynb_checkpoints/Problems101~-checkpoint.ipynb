{
 "cells": [
  {
   "cell_type": "markdown",
   "metadata": {},
   "source": [
    "## 106.BuildTree  \n",
    "从中序与后序遍历序列构造二叉树。  \n",
    "**方法：**  \n",
    "递归  \n",
    "找到根节点之后，依次递归生成根节点的左子树与右子树。  \n",
    "**难点：**  \n",
    "1. 递归终止条件  \n",
    "2. 找到`根节点`\n",
    "3. 明确`生成左子树与右子树在中序与后序遍历序列中的范围`  \n",
    "\n",
    "> 中序遍历：{9,3,15,20,7}   \n",
    "  后序遍历：{9,15,7,20,3}  \n",
    "  找根节点的思路：后序遍历的最后一个是当前树的根节点！  \n",
    "  a. 如上找到根节点为3  \n",
    "  b. 找到3在中序遍历的位置index=1。（可以推断出左子树为{9},右子树为{15，20，7}）  \n",
    "  c. 计算左右子树在中序遍历和后序遍历中的范围  \n",
    "  \n",
    "  |子树|中序遍历|后序遍历|\n",
    "  |:--|:--|:--|\n",
    "  |左子树|{startIn,index-1}|{startPost, index-startIn-1+startPost}|\n",
    "  |右子树|{index+1,endIn}|{index-startIn+startPost, endPost-1}|"
   ]
  },
  {
   "cell_type": "markdown",
   "metadata": {},
   "source": [
    "## 165.CompareVersion  \n",
    "**疑问**  \n",
    "不知道为什么，这道题的内存消耗很多，8.xMB。  \n",
    "可以想想优化的方法？  \n",
    "**知识点**  \n",
    "1. C++分割字符串  \n",
    "> strtok()  \n",
    "string的find+substr()  \n",
    "\n",
    "2. string与int的转换  \n",
    "> string -> int : atoi()  \n",
    "  int -> string : C++11中的to_string()  \n",
    " \n",
    "3. string与char\\*的转换  \n",
    "> string -> char\\* : c_str()或者data() \n",
    "  char\\* -> string : char\\*可以直接赋值给string类型  \n",
    "4. istringstream/ostringstream/sstringstream的使用  \n",
    "```C++\n",
    "//巧妙地使用了istringstream\n",
    "int Solution::compareVersion2(string version1, string version2) {\n",
    "    istringstream is1(version1);\n",
    "    istringstream is2(version2);\n",
    "    int num1 = 0;\n",
    "    int num2 = 0;\n",
    "    char c;\n",
    "    \n",
    "    //读入int型的num数据，bool(is1>>num1)，判断如果流里没有num数据则为0，当两个流都没有读到num数据时候循环停止\n",
    "    while((bool(is1 >> num1) + bool(is2 >> num2))){\n",
    "        //cout << \"num1:\" << num1 << endl;\n",
    "        //cout << \"num2:\" << num2 << endl;\n",
    "        if(num1 > num2){\n",
    "            return 1;\n",
    "        }else if(num1 < num2){\n",
    "            return -1;\n",
    "        }\n",
    "        \n",
    "        //读char类型的字符数据\n",
    "        is1 >> c;\n",
    "        is2 >> c;\n",
    "        \n",
    "        //恢复num1，num2的初始值，避免下一次读数据收到影响\n",
    "        num1 = num2 = 0;\n",
    "    }\n",
    "    return 0;\n",
    "}\n",
    "```"
   ]
  },
  {
   "cell_type": "code",
   "execution_count": null,
   "metadata": {},
   "outputs": [],
   "source": []
  }
 ],
 "metadata": {
  "kernelspec": {
   "display_name": "Python 3",
   "language": "python",
   "name": "python3"
  },
  "language_info": {
   "codemirror_mode": {
    "name": "ipython",
    "version": 3
   },
   "file_extension": ".py",
   "mimetype": "text/x-python",
   "name": "python",
   "nbconvert_exporter": "python",
   "pygments_lexer": "ipython3",
   "version": "3.7.1"
  }
 },
 "nbformat": 4,
 "nbformat_minor": 2
}
