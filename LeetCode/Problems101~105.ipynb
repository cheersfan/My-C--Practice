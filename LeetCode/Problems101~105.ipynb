{
 "cells": [
  {
   "cell_type": "markdown",
   "metadata": {},
   "source": [
    "## 106.BuildTree  \n",
    "从中序与后序遍历序列构造二叉树。  \n",
    "**方法：**  \n",
    "递归  \n",
    "找到根节点之后，依次递归生成根节点的左子树与右子树。  \n",
    "**难点：**  \n",
    "1. 递归终止条件  \n",
    "2. 找到`根节点`\n",
    "3. 明确`生成左子树与右子树在中序与后序遍历序列中的范围`  \n",
    "\n",
    "> 中序遍历：{9,3,15,20,7}   \n",
    "  后序遍历：{9,15,7,20,3}  \n",
    "  找根节点的思路：后序遍历的最后一个是当前树的根节点！  \n",
    "  a. 如上找到根节点为3  \n",
    "  b. 找到3在中序遍历的位置index=1。（可以推断出左子树为{9},右子树为{15，20，7}）  \n",
    "  c. 计算左右子树在中序遍历和后序遍历中的范围  \n",
    "  \n",
    "  |子树|中序遍历|后序遍历|\n",
    "  |:--|:--|:--|\n",
    "  |左子树|{startIn,index-1}|{startPost, index-startIn-1+startPost}|\n",
    "  |右子树|{index+1,endIn}|{index-startIn+startPost, endPost-1}|"
   ]
  },
  {
   "cell_type": "code",
   "execution_count": null,
   "metadata": {},
   "outputs": [],
   "source": []
  }
 ],
 "metadata": {
  "kernelspec": {
   "display_name": "Python 3",
   "language": "python",
   "name": "python3"
  },
  "language_info": {
   "codemirror_mode": {
    "name": "ipython",
    "version": 3
   },
   "file_extension": ".py",
   "mimetype": "text/x-python",
   "name": "python",
   "nbconvert_exporter": "python",
   "pygments_lexer": "ipython3",
   "version": "3.7.1"
  }
 },
 "nbformat": 4,
 "nbformat_minor": 2
}
