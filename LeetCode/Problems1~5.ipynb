{
 "cells": [
  {
   "cell_type": "markdown",
   "metadata": {},
   "source": [
    "## 1.TwoSum  \n",
    "题目比较简单。对STL模板类中的类和方法还是不够熟悉，需要多练习。   \n",
    "\n",
    "**twoSum2()**\n",
    "在使用vector类时，出现了一个错误。将一个小例子记录如下    \n",
    "\n",
    "```C++\n",
    "  //...\n",
    "  //下面代码最终会输出：0，0，3，4，5\n",
    "  //因为使用了push_back方法，是向vector的后面添加数据。\n",
    "  //因此temp初始化时申请了两个空间，并将值初始化位0，再使用push_back方法后，添加到后面。\n",
    "  vector<int> temp(2);\n",
    "  temp.push_back(3);\n",
    "  temp.push_back(4);\n",
    "  temp.push_back(5);\n",
    "  for(int i = 0; i < temp.size(); i ++)\n",
    "  {\n",
    "      cout << temp[i] << \",\" ;\n",
    "  }\n",
    "  //...\n",
    "  \n",
    "  //正确使用方法：将temp声明为\n",
    "  vector<int> temp;\n",
    "\n",
    "```  \n",
    "\n",
    "**towSum3()**  \n",
    "towsum3方法很巧妙，只遍历了nums一遍。   \n",
    "要注意遍历的num向hashmap中放置的时间点。如果和twoSum2方法一样，那么在nums=[3,3] target=6的样例中会出错。"
   ]
  },
  {
   "cell_type": "code",
   "execution_count": null,
   "metadata": {},
   "outputs": [],
   "source": []
  }
 ],
 "metadata": {
  "kernelspec": {
   "display_name": "Python 2",
   "language": "python",
   "name": "python2"
  },
  "language_info": {
   "codemirror_mode": {
    "name": "ipython",
    "version": 2
   },
   "file_extension": ".py",
   "mimetype": "text/x-python",
   "name": "python",
   "nbconvert_exporter": "python",
   "pygments_lexer": "ipython2",
   "version": "2.7.5"
  }
 },
 "nbformat": 4,
 "nbformat_minor": 2
}
