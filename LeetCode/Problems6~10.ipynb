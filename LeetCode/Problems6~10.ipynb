{
 "cells": [
  {
   "cell_type": "markdown",
   "metadata": {},
   "source": [
    "## 6.ZigZagConversion  \n",
    "我想的有点太复杂。  \n",
    "直接创建一个vector的数组，按行存即可。  \n",
    "**运行时间有点长，还需要优化。**\n",
    "\n",
    "## 7.ReverseInteger  \n",
    "这道题主要运用了C++中string和int类型的转换。\n",
    "\n",
    "```C++\n",
    "//int -> string ： to_string(x)\n",
    "//这里不能使用Java中的x+\"\"将int型的x转换为string类型\n",
    "string str = std::to_string(x);\n",
    "\n",
    "//string -> double/int ： stof/stoi/...\n",
    "//char* -> double/int : atof/atoi/...\n",
    "ans = (x >= 0 ? atof(ans_str.c_str()) : (-atof(ans_str.c_str())));\n",
    "ans = (x >= 0 ? stof(ans_str) : (-stof(ans_str)));\n",
    "\n",
    "```  \n",
    "\n",
    "还要考虑整数溢出的问题。  \n",
    "可以通过**用位数更多的类型，比如double接收反转的数据**，也可以通过**捕获异常**来处理。  \n",
    "这里使用了<climits>头文件中的INT_MAX/INT_MIN表示int类型可以表示的最大最小值。  \n",
    "\n",
    "```C++\n",
    "if(ans > INT_MAX || ans < INT_MIN){\n",
    "        cout << 0 << endl;\n",
    "        return 0;\n",
    "}\n",
    "```\n",
    "\n",
    "## 10.RegularExpressionMatching.  \n",
    "一开始想，可以用栈来做，将已匹配的字符pop出去。但是会遇到输入为：aa ab\\*a，这类问题无法解决。  \n",
    "\n",
    "网上借鉴已有的答案，使用**动态规划算法**，比如文本\"ab.\"和模式\"abc\"匹配，那么它们的前缀也匹配。"
   ]
  },
  {
   "cell_type": "code",
   "execution_count": null,
   "metadata": {},
   "outputs": [],
   "source": []
  }
 ],
 "metadata": {
  "kernelspec": {
   "display_name": "Python 2",
   "language": "python",
   "name": "python2"
  },
  "language_info": {
   "codemirror_mode": {
    "name": "ipython",
    "version": 2
   },
   "file_extension": ".py",
   "mimetype": "text/x-python",
   "name": "python",
   "nbconvert_exporter": "python",
   "pygments_lexer": "ipython2",
   "version": "2.7.5"
  }
 },
 "nbformat": 4,
 "nbformat_minor": 2
}
