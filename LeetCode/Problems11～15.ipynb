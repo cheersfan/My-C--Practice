{
 "cells": [
  {
   "cell_type": "markdown",
   "metadata": {},
   "source": [
    "## 14.LongestCommonPrefix  \n",
    "代码如下:  \n",
    "```C++\n",
    "string Solution::longestCommonPrefix(vector<string> &strs) {\n",
    "    string str_ans = \"\";\n",
    "\n",
    "    string str_0 = *strs.begin();\n",
    "    cout << \"str_0:\" << str_0 << endl;\n",
    "    for(int i = 0; i < str_0.length(); i ++){\n",
    "        vector<string>::iterator iter = ++strs.begin();\n",
    "        while (iter != strs.end()){\n",
    "            string str_temp = *iter;\n",
    "            cout << \"str_temp:\" << str_temp << endl;\n",
    "            if(str_temp.length() <= i || str_0[i] != str_temp[i]){\n",
    "                return str_ans;\n",
    "            }\n",
    "            iter ++;\n",
    "        }\n",
    "        str_ans.push_back(str_0[i]);\n",
    "    }\n",
    "    return str_ans;\n",
    "\n",
    "}\n",
    "\n",
    "```\n",
    "报错：运行时错误:  \n",
    "> Line 794: Char 17: runtime error: reference binding to null pointer of type 'struct basic_string' (stl_iterator.h)  \n",
    "\n",
    "分析：  \n",
    "> runtime error是一大类问题，一般是内存使用方面的问题。  \n",
    "这种问题是在程序运行的时候出现的错误。\n",
    "比如说，定义了一个100长的数组，定义正确引用正确，但是在运行的时候，向里面写入了一个1000长度的字符串。此时会出错吧，肯定会，什么错呢？runtime error。检查一下空间长度之类的东西吧，肯定哪里错了。  \n",
    "\n",
    "## 15.ThreeSum  \n",
    "* 使用`双指针`  \n",
    "* 判断输入为空的情况  \n",
    "* sort排序方法\n",
    "* 超时优化\n",
    "\n",
    "报错：  \n",
    "题目使用容器，不注意细节就会出现`runtime error`  \n",
    "> Line 933: Char 34: runtime error: reference binding to null pointer of type 'value_type' (stl_vector.h)    \n",
    "\n",
    "分析：  \n",
    "当测试用例为空时，会有上面的错误。会出现空指针异常。**要增加`判断输入是否为空`的可能**。  \n",
    "然而增加了判断，结果超时了:(，那个测试用例占了满满一屏幕，真是大规模的测试用例。  \n",
    "\n",
    "总结：  \n",
    "我自己写的超时代码相当于使用了三次循环，时间复杂度为`n*n*n`，参考讨论中stdC++11同志的代码，使用双指针，减少了一次循环。  \n",
    "这道题的关键在去重，即输入数据中出现相同的元素后的计算是重复的，所以要避免这种情况。去重方法为：  \n",
    "> 使用sort将输入元素排序；  \n",
    "  使用while循环，移动指针，遇到相同的元素继续移动指针。（不使用for循环的第三个参数）  \n",
    "  \n",
    "sort方法需要包含头文件\\<algrithm\\>，底层使用\n",
    "    \n"
   ]
  },
  {
   "cell_type": "code",
   "execution_count": null,
   "metadata": {},
   "outputs": [],
   "source": []
  }
 ],
 "metadata": {
  "kernelspec": {
   "display_name": "Python 2",
   "language": "python",
   "name": "python2"
  },
  "language_info": {
   "codemirror_mode": {
    "name": "ipython",
    "version": 2
   },
   "file_extension": ".py",
   "mimetype": "text/x-python",
   "name": "python",
   "nbconvert_exporter": "python",
   "pygments_lexer": "ipython2",
   "version": "2.7.5"
  }
 },
 "nbformat": 4,
 "nbformat_minor": 2
}
