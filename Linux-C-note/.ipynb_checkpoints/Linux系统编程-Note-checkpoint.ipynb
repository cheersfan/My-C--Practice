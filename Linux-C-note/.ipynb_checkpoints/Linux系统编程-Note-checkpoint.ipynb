{
 "cells": [
  {
   "cell_type": "markdown",
   "metadata": {},
   "source": [
    "## chapter 1 入门和基本概念  \n",
    "\n",
    "### 1.1 系统编程\n",
    "系统编程的基础：  \n",
    "1. 系统调用（syscall）  \n",
    "2. C库（libc）  \n",
    "3. C编译器  \n",
    "\n",
    "系统调用：把程序的运行环境从用户空间切换到内核空间\n",
    "\n",
    "在Linux中，C库和C编译器都由GNU提供，C库 -> GNU libc（glibc），C编译器 -> GNU编译器工具集（GNU Compliler Collection，即gcc）。  \n",
    "C++也有对应的库和编译器，libstdc++库（或者称为libstdcxx）,GNU C++编译器。  \n",
    "\n",
    "### 1.2 API和ABI  \n",
    "相对来说API更常见一些，除了Linux系统编程，更高级的编程语言中也有API的概念。因为API定义了程序级别的接口，为了使两个模块的程序可以相互理解所出现的定义。  \n",
    "而ABI（Application Binary Interface）是为了保证二进制的兼容，关注程序具体在硬件上（寄存器、字节序等）的兼容。确保同一个ABI的程序的目标代码不用重新编译而可以在任何系统上运行。但是，事实上很难达到这个效果，OS常常会定义自己的ABI，且这些ABI与体系结构（如x86-64）紧密相连。(P5)  \n",
    "\n",
    "### 1.3 标准  \n",
    "POSIX：可移植操作系统接口（Portable Operating System Interface）  \n",
    "SUS：单一UNIX规范(Single Unix Specification）\n",
    "\n",
    "### 1.4 Linux编程的概念  \n",
    "**文件和文件系统**  \n",
    "Linux中，可以从文件的任意字节开始读写。`文件位置（file location）`/`文件偏移(file offset)`可以理解为是对文件的哪一个字符开始进行操作。一般打开文件后，文件的偏移量为0，之后可以手工设置文件位置。  \n",
    "`文件长度`：是文件的大小，通过字节来计算。  \n",
    "\n",
    "系统会为每个打开的文件实例提供唯一的文件描述符（file descriptor），用C语言中的int型整数表示。 \n",
    "inode：是文件系统为该文件分配的唯一整数值。索引节点中会保存和文件相关的元数据，包括文件在磁盘上存储的位置。  \n",
    "> 疑问：那这个文件描述符与索引节点（inode，information node）有什么关系？  (P10)\n",
    "\n",
    "**目录和链接**  \n",
    "目录可以当作是一个文件，存储文件名和对应索引节点的对应关系，即链接。  \n",
    "目录被当作普通的文件，但是需要系统调用来进行操作。\n"
   ]
  },
  {
   "cell_type": "code",
   "execution_count": null,
   "metadata": {},
   "outputs": [],
   "source": []
  }
 ],
 "metadata": {
  "kernelspec": {
   "display_name": "Python 2",
   "language": "python",
   "name": "python2"
  },
  "language_info": {
   "codemirror_mode": {
    "name": "ipython",
    "version": 2
   },
   "file_extension": ".py",
   "mimetype": "text/x-python",
   "name": "python",
   "nbconvert_exporter": "python",
   "pygments_lexer": "ipython2",
   "version": "2.7.5"
  }
 },
 "nbformat": 4,
 "nbformat_minor": 2
}
