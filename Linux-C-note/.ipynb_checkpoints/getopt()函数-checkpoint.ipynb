{
 "cells": [
  {
   "cell_type": "markdown",
   "metadata": {},
   "source": [
    "## getopt()\n",
    "\n",
    "**函数名：**  \n",
    "```C++\n",
    "//头文件\n",
    "#include <unistd.h>\n",
    "getopt();\n",
    "```\n",
    "在Linux中，用**命令行**执行可执行文件时可能会涉及到给其加入不同的参数的问题。Linux在C语言中，靠getopt()函数解析命令行选项参数，并结合switch语句来完成的。  \n",
    "例如：   \n",
    "```shell\n",
    "#gcc命令，这里的-o可以理解为恶选项，test为参数\n",
    "gcc main.c -o test\n",
    "```\n",
    "\n",
    "**函数原型：**  \n",
    "```C++\n",
    "int getopt(int argc,char * const argv[ ],const char * optstring);\n",
    "```  \n",
    "argc，argv是主函数main的两个参数，optstring为需要处理的选项字符串。  \n",
    "\n",
    "**相关定义**：  \n",
    ">extern char \\*optarg;  //选项的参数指针  \n",
    " extern int optind,   //下一次调用getopt的时，从optind存储的位置处重新开始检查选项。  \n",
    " extern int opterr,  //当opterr=0时，getopt不向stderr输出错误信息。  \n",
    " extern int optopt;  //当命令行选项字符不包括在optstring中或者选项缺少必要的参数时，该选项存储在optopt 中，getopt返回'？\n"
   ]
  },
  {
   "cell_type": "code",
   "execution_count": null,
   "metadata": {},
   "outputs": [],
   "source": []
  }
 ],
 "metadata": {
  "kernelspec": {
   "display_name": "Python 2",
   "language": "python",
   "name": "python2"
  },
  "language_info": {
   "codemirror_mode": {
    "name": "ipython",
    "version": 2
   },
   "file_extension": ".py",
   "mimetype": "text/x-python",
   "name": "python",
   "nbconvert_exporter": "python",
   "pygments_lexer": "ipython2",
   "version": "2.7.5"
  }
 },
 "nbformat": 4,
 "nbformat_minor": 2
}
