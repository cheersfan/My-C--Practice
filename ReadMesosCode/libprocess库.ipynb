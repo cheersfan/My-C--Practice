{
 "cells": [
  {
   "cell_type": "markdown",
   "metadata": {},
   "source": [
    "# libprocess库  \n",
    "`libprocess`是一个基于actor模型的进程间通信的库，在于Mesos源码的第三方库中，并被Mesos大量使用。\n",
    "\n",
    "\n",
    "\n",
    "**参考内容：**  \n",
    "[1]: https://codetrips.com/2015/06/28/581/  \"Introduction to libprocess\"  \n",
    "[2]: https://gist.github.com/massenz/6bf1f5c68d74a56b6f3d \"libprocess示例代码\"  \n"
   ]
  },
  {
   "cell_type": "code",
   "execution_count": null,
   "metadata": {},
   "outputs": [],
   "source": []
  }
 ],
 "metadata": {
  "kernelspec": {
   "display_name": "Python 3",
   "language": "python",
   "name": "python3"
  },
  "language_info": {
   "codemirror_mode": {
    "name": "ipython",
    "version": 3
   },
   "file_extension": ".py",
   "mimetype": "text/x-python",
   "name": "python",
   "nbconvert_exporter": "python",
   "pygments_lexer": "ipython3",
   "version": "3.7.1"
  }
 },
 "nbformat": 4,
 "nbformat_minor": 2
}
