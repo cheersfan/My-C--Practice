{
 "cells": [
  {
   "cell_type": "markdown",
   "metadata": {},
   "source": [
    "# C++的一些小困惑和小概念  \n",
    "记录临时问题的note\n",
    "\n",
    "---\n",
    "\n",
    "\n",
    "\n",
    "## 牵扯到`效率`的问题  \n",
    "* 静态内存管理和动态内存管理  \n",
    "\n",
    "* 静态联编和动态联编  \n",
    "\n",
    "* 值传递和引用传递  \n",
    "\n",
    "* 返回对象和返回引用  \n",
    "\n",
    "---"
   ]
  },
  {
   "cell_type": "markdown",
   "metadata": {},
   "source": [
    "## C++多态的实现  \n",
    "什么是多态？  \n",
    "\n",
    "---\n",
    "\n",
    "\n",
    "* 函数重载  \n",
    "\n",
    "* 虚函数  \n"
   ]
  },
  {
   "cell_type": "markdown",
   "metadata": {},
   "source": [
    "## 成员初始化列表和列表初始化  \n",
    "* 成员初始化列表\n",
    "* 列表初始化\n",
    "---\n",
    "\n",
    "**成员初始化列表**：\n",
    "1. 在构造函数中初始化类的成员变量可使用成员初始化列表。\n",
    "2. 在类的数据成员变量为static时，需要在产生对象之前对静态数据初始化，也需要使用初始化列表进行初始化。\n",
    "3. 子类的构造函数可以通过成员初始化列表对基类成员进行初始化。\n",
    "```C++\n",
    "//2.\n",
    "Queue::Queue(int qs) : qsize(qs){...}\n",
    "//3.\n",
    "hasDMA::hasDMA(const & hasDMA hs) : baseDMA(hs){...}\n",
    "```\n",
    "\n",
    "**列表初始化**\n"
   ]
  },
  {
   "cell_type": "markdown",
   "metadata": {},
   "source": [
    "## 单例模式"
   ]
  },
  {
   "cell_type": "markdown",
   "metadata": {},
   "source": [
    "## 默认值又给忘记了  \n",
    "印象中static的变量是会有默认的值的，还是c++的基本类型的变量都有默认值？"
   ]
  },
  {
   "cell_type": "markdown",
   "metadata": {},
   "source": [
    "## C++中的Option"
   ]
  },
  {
   "cell_type": "code",
   "execution_count": null,
   "metadata": {},
   "outputs": [],
   "source": []
  }
 ],
 "metadata": {
  "kernelspec": {
   "display_name": "Python 2",
   "language": "python",
   "name": "python2"
  },
  "language_info": {
   "codemirror_mode": {
    "name": "ipython",
    "version": 2
   },
   "file_extension": ".py",
   "mimetype": "text/x-python",
   "name": "python",
   "nbconvert_exporter": "python",
   "pygments_lexer": "ipython2",
   "version": "2.7.5"
  }
 },
 "nbformat": 4,
 "nbformat_minor": 2
}
