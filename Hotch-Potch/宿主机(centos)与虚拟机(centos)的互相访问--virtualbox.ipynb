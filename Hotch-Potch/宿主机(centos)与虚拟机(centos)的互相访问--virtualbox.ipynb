{
 "cells": [
  {
   "cell_type": "markdown",
   "metadata": {},
   "source": [
    "# 宿主机对虚拟机的访问设置  \n",
    "宿主机-centos7  \n",
    "虚拟机-centos6  \n",
    "虚拟机软件-virtual  \n",
    "因为需要一个32位的系统，所以想通过当前centos7中安装虚拟机来进行测试。没想到不停的试误试了这么久。  \n",
    "\n",
    "---\n",
    "关于virtualbox中宿主机与虚拟机连接的博客有很多，也是因为自己能力有限，试了很多种方法都没有成功。"
   ]
  },
  {
   "cell_type": "code",
   "execution_count": null,
   "metadata": {},
   "outputs": [],
   "source": []
  }
 ],
 "metadata": {
  "kernelspec": {
   "display_name": "Python 2",
   "language": "python",
   "name": "python2"
  },
  "language_info": {
   "codemirror_mode": {
    "name": "ipython",
    "version": 2
   },
   "file_extension": ".py",
   "mimetype": "text/x-python",
   "name": "python",
   "nbconvert_exporter": "python",
   "pygments_lexer": "ipython2",
   "version": "2.7.5"
  }
 },
 "nbformat": 4,
 "nbformat_minor": 2
}
