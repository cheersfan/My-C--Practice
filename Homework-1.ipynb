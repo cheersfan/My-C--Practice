{
 "cells": [
  {
   "cell_type": "markdown",
   "metadata": {},
   "source": [
    "## 2.3 复合类型  \n",
    "这一部分主要讲了`引用`和`指针`两个符合类型。其中：  \n",
    "`引用`即别名，是一个对象的另一个名字，而非一个对象；  \n",
    "`指针`存放的是某个对象的地址。  \n",
    "\n",
    "另外，`赋值`永远改变的是等号左侧的对象。\n",
    "\n",
    "---  \n",
    "\n",
    "**复合类型**\n",
    "> 结构体、共用体、引用、指针等  \n",
    "\n",
    "**空指针**  \n",
    "```C++\n",
    "\n",
    "//声明空指针三种方法\n",
    "int *p1 = nullptr; //C++11新增加，推荐使用\n",
    "int *p2 = 0;\n",
    "int *p3 = NULL;   //旧版本C++使用，现在应避免使用\n",
    "\n",
    "```  \n",
    "\n",
    "## 2.4 const限定符  \n",
    "* 一般的const  \n",
    "* 对常量的引用（`常量引用`-const引用）  \n",
    "* 指向常量的指针（`常量指针`-const指针）  \n",
    "* 常量表达式（constexpr）\n",
    "> 引用只能绑定到对象上，而不能与字面值or某个表达式的计算结果绑定到一起。但是！`常量引用`可以。  \n",
    ">    ```C++    \n",
    "//常量引用\n",
    "int & refVal = 10; //错误  \n",
    "const int & cRefVal = 10; //正确  \n",
    "//常量指针  \n",
    "int errNumb = 0;\n",
    "int *const curErr = &errNumb;\n",
    "const double pi = 3.14;\n",
    "const double *const curpi = &pi;\n",
    "    ```  \n",
    "    \n"
   ]
  },
  {
   "cell_type": "markdown",
   "metadata": {},
   "source": [
    "## 3.1 命名空间的using声明  \n",
    "**头文件不应包含using声明**  \n",
    "\n",
    "## 3.2 标准库类型string  \n",
    "* **getline(cin,str)获取一行的string值，遇到换行符停止，保留空白符和换行符，但str中只有空白符。**  \n",
    "\n",
    "* `cctype`头文件中，包含了判断字符（char）值的特性，eg：char c是否为数字/字母/控制字符/标点符号等类型。  \n",
    "> isalnum(c)  \n",
    "> isalpha(c)\n",
    "> ...\n",
    "\n",
    "## 3.3标准库类型vector  \n",
    "* vector是一个`类模板`，`模板`可以看作为编译器生成类或者函数编写的一份说明。  "
   ]
  },
  {
   "cell_type": "code",
   "execution_count": null,
   "metadata": {},
   "outputs": [],
   "source": []
  }
 ],
 "metadata": {
  "kernelspec": {
   "display_name": "Python 3",
   "language": "python",
   "name": "python3"
  },
  "language_info": {
   "codemirror_mode": {
    "name": "ipython",
    "version": 3
   },
   "file_extension": ".py",
   "mimetype": "text/x-python",
   "name": "python",
   "nbconvert_exporter": "python",
   "pygments_lexer": "ipython3",
   "version": "3.7.1"
  }
 },
 "nbformat": 4,
 "nbformat_minor": 2
}
