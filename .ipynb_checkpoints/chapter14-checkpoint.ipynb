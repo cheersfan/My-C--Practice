{
 "cells": [
  {
   "cell_type": "markdown",
   "metadata": {},
   "source": [
    "# 14章 C++中代码的重用  \n",
    "\n",
    "is-a实现的方式：\n",
    "* 公有继承  \n",
    "\n",
    "has-a实现的方式：\n",
    "* 包含其他类对象为类成员的类\n",
    "* 私有继承  \n",
    "\n",
    "> **注**:可以将has-a理解为一种不完全的继承\n",
    "\n",
    "\n"
   ]
  },
  {
   "cell_type": "code",
   "execution_count": null,
   "metadata": {},
   "outputs": [],
   "source": []
  }
 ],
 "metadata": {
  "kernelspec": {
   "display_name": "Python 2",
   "language": "python",
   "name": "python2"
  },
  "language_info": {
   "codemirror_mode": {
    "name": "ipython",
    "version": 2
   },
   "file_extension": ".py",
   "mimetype": "text/x-python",
   "name": "python",
   "nbconvert_exporter": "python",
   "pygments_lexer": "ipython2",
   "version": "2.7.5"
  }
 },
 "nbformat": 4,
 "nbformat_minor": 2
}
