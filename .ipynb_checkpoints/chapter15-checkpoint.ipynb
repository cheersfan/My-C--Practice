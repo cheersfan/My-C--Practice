{
 "cells": [
  {
   "cell_type": "markdown",
   "metadata": {},
   "source": [
    "# 第15章-友元、异常和其他  \n",
    "这一章草草翻过。主要是友元和异常两个部分。RTTI先留着吧... 具体还是需要在写代码时用到了再回过头来仔细研究、应用。  \n",
    "* 友元比之前第11章友元函数更深一步，将了类之间的友元关系。需要注意多个类之间的声明顺序，必要时需要使用`前向声明`，与之对应，还有`后向定义`（后向定义，是我自己编的:））  \n",
    "* 异常和Java中的异常思想是一样的，了解throw->try->catch的执行顺序，和具体的定义方法即可。\n",
    "> 另外，关于具体C++的编译中，.h文件和.cpp文件的关系（编译顺序等，例如：为什么前向声明和后向定义可行？）我还没有理解清楚，需要另外看看。\n",
    "\n",
    "---\n",
    "\n",
    "\n",
    "## 15.1友元\n",
    "1. 一个类可以成为另一个类的友元；\n",
    "2. 一个类中的成员函数可以定义另一个类的友元；  \n",
    "\n",
    "```C++\n",
    "//1.友元类\n",
    "class Tv{\n",
    "public:\n",
    "    // Remote类成为Tv类的友元，可以访问其私有数据和函数\n",
    "    friend class Remote;\n",
    "    ...\n",
    "}\n",
    "\n",
    "\n",
    "//2.友元成员函数\n",
    "class Tv;\n",
    "class Remote{\n",
    "    //方法的声明\n",
    "    ...\n",
    "}\n",
    "\n",
    "class Tv{\n",
    "    ...\n",
    "}\n",
    "\n",
    "//Remote类方法的定义\n",
    "    ...\n",
    "\n",
    "```  \n",
    "友元成员函数要使用`前向声明`。(P607)  \n",
    "\n",
    "## 15.2类嵌套  \n",
    "\n",
    "## 15.3异常  \n",
    "处理异常由简单到深入有三种方式：  \n",
    "1. 调用abort,exit方法  \n",
    "2. 返回错误码（方法return true/false）  \n",
    "3. 异常机制（throw->try->catch）  \n",
    "\n",
    "在**异常机制**中，向上抛出异常，可以是基本类型的数据，也可以是已定义的类的对象。"
   ]
  },
  {
   "cell_type": "code",
   "execution_count": null,
   "metadata": {},
   "outputs": [],
   "source": []
  }
 ],
 "metadata": {
  "kernelspec": {
   "display_name": "Python 2",
   "language": "python",
   "name": "python2"
  },
  "language_info": {
   "codemirror_mode": {
    "name": "ipython",
    "version": 2
   },
   "file_extension": ".py",
   "mimetype": "text/x-python",
   "name": "python",
   "nbconvert_exporter": "python",
   "pygments_lexer": "ipython2",
   "version": "2.7.5"
  }
 },
 "nbformat": 4,
 "nbformat_minor": 2
}
