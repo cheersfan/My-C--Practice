{
 "cells": [
  {
   "cell_type": "markdown",
   "metadata": {},
   "source": [
    "# chapter11使用类  \n",
    "\n",
    "## 11.6类的自动转换和强制类型转换  \n",
    "我总是对转换函数理解的很模糊。  \n",
    "\n",
    "* 转换构造函数（P413）\n",
    "\n",
    "* 转换函数\n",
    "\n",
    "---  \n",
    "\n",
    "**转换构造函数**：也称为**单参构造函数的隐式转换**只有一个参数或只有一个参数没有设置默认值。则可以将没有默认值的参数转换为当前类的对象。示例如下：\n",
    "\n",
    "\n",
    " ```C++\n",
    "//已定义了Stonewt类，有如下构造函数\n",
    "Stonewt::Stonewt(double lbs);//double => Stonewt\n",
    "Stonewt::Stonewt(string lbs, int a = 0);//int => Stonewt\n",
    "\n",
    "//以上的两个构造函数称为转换构造函数，可以进行隐式转换\n",
    "Stonewt myCat;\n",
    "myCat = 2.5;\n",
    "myCat = \"hello\";\n",
    "\n",
    "```\n",
    "疑问：这种隐式转换使double和string类型转换成了Stonewt类型，最后都转换成了什么样子？  \n",
    "也有可能这种类型的转换是没有意义的，所以要在编码中关闭此类隐式转换。使用`explict`关键字。示例见P538，第14章14.1代码。\n",
    "\n",
    "\n"
   ]
  },
  {
   "cell_type": "code",
   "execution_count": null,
   "metadata": {},
   "outputs": [],
   "source": []
  }
 ],
 "metadata": {
  "kernelspec": {
   "display_name": "Python 2",
   "language": "python",
   "name": "python2"
  },
  "language_info": {
   "codemirror_mode": {
    "name": "ipython",
    "version": 2
   },
   "file_extension": ".py",
   "mimetype": "text/x-python",
   "name": "python",
   "nbconvert_exporter": "python",
   "pygments_lexer": "ipython2",
   "version": "2.7.5"
  }
 },
 "nbformat": 4,
 "nbformat_minor": 2
}
