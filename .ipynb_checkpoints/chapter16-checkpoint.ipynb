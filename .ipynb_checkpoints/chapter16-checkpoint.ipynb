{
 "cells": [
  {
   "cell_type": "markdown",
   "metadata": {},
   "source": [
    "# 第16章-string类和标准模板库  \n",
    "\n",
    "## 16.1string类  \n",
    "**string类的构造函数**  \n",
    "\n",
    "**string类的输入**  \n",
    "C++中主要用的输入方法是`cin`，关于C-风格字符串的输入和string类的输入有一些区别：  \n",
    "```C++ \n",
    "//C-风格字符串，三种方式\n",
    "char info[100];\n",
    "cin >> info;\n",
    "cin.getline(info, 100);\n",
    "cin.get(info,100);\n",
    "\n",
    "//string类，两种方式\n",
    "string stuff;\n",
    "cin >> stuff;\n",
    "getline(cin, stuff);\n",
    "```\n",
    "string类还有很多具体的对string对象操作的方法，具体需要更多的实践。\n",
    "\n",
    "## 16.2智能指针模板类   \n",
    "我的理解：智能指针类针对指针的声明进行了动态内存的分配，所以需要手动的delete对分配内存进行回收，可能会出现意外导致delete方法没有执行造成内存的泄露。而智能指针可以完成对内存的自动管理，即自动调用自己的析构函数回收空间。  \n",
    "* auto_ptr（C++98提出，C++11摒弃）  \n",
    "* unique_ptr：unique_ptr智能指针对象则会在第二个对象指向之前对象的地址时报错。\n",
    "* shared_ptr：shared_ptr的对象会有一个引用计数，统计一个shared_ptr对象被几个指针所指。程序结束后，要调用对象的析构函数时，后声明的对象，会减少引用计数的个数，直到最后一个引用将引用计数减为0，再回收该对象的指针！     \n",
    "\n",
    "\n",
    "\n"
   ]
  },
  {
   "cell_type": "code",
   "execution_count": null,
   "metadata": {},
   "outputs": [],
   "source": []
  }
 ],
 "metadata": {
  "kernelspec": {
   "display_name": "Python 2",
   "language": "python",
   "name": "python2"
  },
  "language_info": {
   "codemirror_mode": {
    "name": "ipython",
    "version": 2
   },
   "file_extension": ".py",
   "mimetype": "text/x-python",
   "name": "python",
   "nbconvert_exporter": "python",
   "pygments_lexer": "ipython2",
   "version": "2.7.5"
  }
 },
 "nbformat": 4,
 "nbformat_minor": 2
}
